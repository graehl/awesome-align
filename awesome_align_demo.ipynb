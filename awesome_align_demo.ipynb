{
  "nbformat": 4,
  "nbformat_minor": 0,
  "metadata": {
    "colab": {
      "provenance": [],
      "include_colab_link": true
    },
    "kernelspec": {
      "name": "python3",
      "display_name": "Python 3"
    }
  },
  "cells": [
    {
      "cell_type": "markdown",
      "metadata": {
        "id": "view-in-github",
        "colab_type": "text"
      },
      "source": [
        "<a href=\"https://colab.research.google.com/github/graehl/awesome-align/blob/master/awesome_align_demo.ipynb\" target=\"_parent\"><img src=\"https://colab.research.google.com/assets/colab-badge.svg\" alt=\"Open In Colab\"/></a>"
      ]
    },
    {
      "cell_type": "markdown",
      "metadata": {
        "id": "Hjc7LvIQbuMn"
      },
      "source": [
        "# AWESOME: Aligning Word Embedding Spaces of Multilingual Encoders"
      ]
    },
    {
      "cell_type": "markdown",
      "metadata": {
        "id": "7ipxcuO9vDgZ"
      },
      "source": [
        "[``awesome-align``](https://github.com/neulab/awesome-align) is a tool that can extract word alignments from multilingual BERT (mBERT) and allows you to fine-tune mBERT on parallel corpora for better alignment quality (see [our paper](https://arxiv.org/abs/2101.08231) for more details).\n",
        "\n",
        "This is a simple demo of how `awesome-align` extracts word alignments from mBERT."
      ]
    },
    {
      "cell_type": "markdown",
      "metadata": {
        "id": "bJpRK-1_wQsJ"
      },
      "source": [
        "First, install and import the following packages. (Note that the original `awesome-align` tool does not require the `transformers` package.)"
      ]
    },
    {
      "cell_type": "code",
      "metadata": {
        "colab": {
          "base_uri": "https://localhost:8080/"
        },
        "id": "ODwJ_gQ8bnqR",
        "outputId": "357c1ceb-76f7-47da-a01e-c31c57ea068a"
      },
      "source": [
        "!pip install transformers\n",
        "import torch\n",
        "import transformers\n",
        "import itertools"
      ],
      "execution_count": 31,
      "outputs": [
        {
          "output_type": "stream",
          "name": "stdout",
          "text": [
            "Requirement already satisfied: transformers in /usr/local/lib/python3.11/dist-packages (4.50.3)\n",
            "Requirement already satisfied: filelock in /usr/local/lib/python3.11/dist-packages (from transformers) (3.18.0)\n",
            "Requirement already satisfied: huggingface-hub<1.0,>=0.26.0 in /usr/local/lib/python3.11/dist-packages (from transformers) (0.30.1)\n",
            "Requirement already satisfied: numpy>=1.17 in /usr/local/lib/python3.11/dist-packages (from transformers) (2.0.2)\n",
            "Requirement already satisfied: packaging>=20.0 in /usr/local/lib/python3.11/dist-packages (from transformers) (24.2)\n",
            "Requirement already satisfied: pyyaml>=5.1 in /usr/local/lib/python3.11/dist-packages (from transformers) (6.0.2)\n",
            "Requirement already satisfied: regex!=2019.12.17 in /usr/local/lib/python3.11/dist-packages (from transformers) (2024.11.6)\n",
            "Requirement already satisfied: requests in /usr/local/lib/python3.11/dist-packages (from transformers) (2.32.3)\n",
            "Requirement already satisfied: tokenizers<0.22,>=0.21 in /usr/local/lib/python3.11/dist-packages (from transformers) (0.21.1)\n",
            "Requirement already satisfied: safetensors>=0.4.3 in /usr/local/lib/python3.11/dist-packages (from transformers) (0.5.3)\n",
            "Requirement already satisfied: tqdm>=4.27 in /usr/local/lib/python3.11/dist-packages (from transformers) (4.67.1)\n",
            "Requirement already satisfied: fsspec>=2023.5.0 in /usr/local/lib/python3.11/dist-packages (from huggingface-hub<1.0,>=0.26.0->transformers) (2025.3.2)\n",
            "Requirement already satisfied: typing-extensions>=3.7.4.3 in /usr/local/lib/python3.11/dist-packages (from huggingface-hub<1.0,>=0.26.0->transformers) (4.13.0)\n",
            "Requirement already satisfied: charset-normalizer<4,>=2 in /usr/local/lib/python3.11/dist-packages (from requests->transformers) (3.4.1)\n",
            "Requirement already satisfied: idna<4,>=2.5 in /usr/local/lib/python3.11/dist-packages (from requests->transformers) (3.10)\n",
            "Requirement already satisfied: urllib3<3,>=1.21.1 in /usr/local/lib/python3.11/dist-packages (from requests->transformers) (2.3.0)\n",
            "Requirement already satisfied: certifi>=2017.4.17 in /usr/local/lib/python3.11/dist-packages (from requests->transformers) (2025.1.31)\n"
          ]
        }
      ]
    },
    {
      "cell_type": "code",
      "source": [
        "# printing\n",
        "class color:\n",
        "   PURPLE = '\\033[95m'\n",
        "   CYAN = '\\033[96m'\n",
        "   DARKCYAN = '\\033[36m'\n",
        "   BLUE = '\\033[94m'\n",
        "   GREEN = '\\033[92m'\n",
        "   YELLOW = '\\033[93m'\n",
        "   RED = '\\033[91m'\n",
        "   BOLD = '\\033[1m'\n",
        "   UNDERLINE = '\\033[4m'\n",
        "   END = '\\033[0m'\n"
      ],
      "metadata": {
        "id": "Jr4ySKRtWotU"
      },
      "execution_count": null,
      "outputs": []
    },
    {
      "cell_type": "markdown",
      "metadata": {
        "id": "QRvfawCbw2i7"
      },
      "source": [
        "Load the multilingual BERT model and its tokenizer."
      ]
    },
    {
      "cell_type": "code",
      "metadata": {
        "id": "9aPvLqT7eiry"
      },
      "source": [
        "bertmodel='bert-base-multilingual-cased'\n",
        "model = transformers.BertModel.from_pretrained(bertmodel)\n",
        "tokenizer = transformers.BertTokenizer.from_pretrained(bertmodel)"
      ],
      "execution_count": 32,
      "outputs": []
    },
    {
      "cell_type": "markdown",
      "metadata": {
        "id": "6RPxlavmxNmj"
      },
      "source": [
        "Input *tokenized* source and target sentences."
      ]
    },
    {
      "cell_type": "code",
      "metadata": {
        "id": "FfDM0w2kfHyJ"
      },
      "source": [
        "src = 'I bought a new car because I was going through a midlife crisis .'\n",
        "tgt = 'Я купил новую тачку , потому что я переживал кризис среднего возраста .'\n",
        "tgt = 'Compré un auto nuevo porque estaba pasando por una crisis de la mediana edad .'"
      ],
      "execution_count": 33,
      "outputs": []
    },
    {
      "cell_type": "markdown",
      "metadata": {
        "id": "HpUa-ZqUxZ8Z"
      },
      "source": [
        "Run the model and print the resulting alignments."
      ]
    },
    {
      "cell_type": "code",
      "metadata": {
        "colab": {
          "base_uri": "https://localhost:8080/"
        },
        "id": "smW6s5JJflCN",
        "outputId": "eaa3cce8-826c-4e45-a732-9e3eaa20e067"
      },
      "source": [
        "import pdb\n",
        "# pre-processing\n",
        "sent_src, sent_tgt = src.strip().split(), tgt.strip().split()\n",
        "token_src, token_tgt = [tokenizer.tokenize(word) for word in sent_src], [tokenizer.tokenize(word) for word in sent_tgt]\n",
        "wid_src, wid_tgt = [tokenizer.convert_tokens_to_ids(x) for x in token_src], [tokenizer.convert_tokens_to_ids(x) for x in token_tgt]\n",
        "ids_src, ids_tgt = tokenizer.prepare_for_model(list(itertools.chain(*wid_src)), return_tensors='pt', model_max_length=tokenizer.model_max_length, truncation=True)['input_ids'], tokenizer.prepare_for_model(list(itertools.chain(*wid_tgt)), return_tensors='pt', truncation=True, model_max_length=tokenizer.model_max_length)['input_ids']\n",
        "sub2word_map_src = []\n",
        "for i, word_list in enumerate(token_src):\n",
        "  sub2word_map_src += [i for x in word_list]\n",
        "sub2word_map_tgt = []\n",
        "for i, word_list in enumerate(token_tgt):\n",
        "  sub2word_map_tgt += [i for x in word_list]\n",
        "\n",
        "\n",
        "\n",
        "\n",
        "# alignment\n",
        "\n",
        "\n",
        "def sent_without_startend(batch, sent=0): return batch[sent, 1:-1]\n",
        "def alignvec(batch, align_layer=8, sent=0): return sent_without_startend(batch[align_layer], sent=sent)\n",
        "def hidden(model, ids): return model(ids.unsqueeze(0), output_hidden_states=True)[2]\n",
        "with torch.no_grad():\n",
        "  model.eval() # just sets mode of model, probably doesn't need to be under no_grad\n",
        "for align_layer in range(7,12):\n",
        " last_align = None\n",
        " threshold = 1e-1\n",
        " for it in range(6):\n",
        "  threshold = threshold * 1e-2\n",
        "  with torch.no_grad():\n",
        "    hidden_src = hidden(model, ids_src)\n",
        "    hidden_tgt = hidden(model, ids_tgt)\n",
        "    #pdb.set_trace()\n",
        "    out_src = alignvec(hidden_src, align_layer) #model(ids_src.unsqueeze(0), output_hidden_states=True)[2][align_layer][0, 1:-1]\n",
        "    out_tgt = alignvec(hidden_tgt, align_layer) #model(ids_tgt.unsqueeze(0), output_hidden_states=True)[2][align_layer][0, 1:-1]\n",
        "\n",
        "    dot_prod = torch.matmul(out_src, out_tgt.transpose(-1, -2))\n",
        "\n",
        "    softmax_srctgt = torch.nn.Softmax(dim=-1)(dot_prod)\n",
        "    softmax_tgtsrc = torch.nn.Softmax(dim=-2)(dot_prod)\n",
        "\n",
        "    softmax_inter = (softmax_srctgt > threshold)*(softmax_tgtsrc > threshold)\n",
        "\n",
        "  align_subwords = torch.nonzero(softmax_inter, as_tuple=False)\n",
        "  align_words = set()\n",
        "  for i, j in align_subwords:\n",
        "    align_words.add( (sub2word_map_src[i], sub2word_map_tgt[j]) )\n",
        "  align_words = sorted(align_words)\n",
        "  if align_words != last_align:\n",
        "    print(f\" (layer {align_layer} > {threshold:.3g}) {len(align_words)} links for '{src}' to '{tgt}'\")\n",
        "    for i, j in align_words:\n",
        "      print(f'{color.BOLD}{color.BLUE}{sent_src[i]}{color.END}==={color.BOLD}{color.RED}{sent_tgt[j]}{color.END}')\n",
        "  last_align = align_words"
      ],
      "execution_count": 38,
      "outputs": [
        {
          "output_type": "stream",
          "name": "stdout",
          "text": [
            " (layer 7 > 0.001) 11 links for 'I bought a new car because I was going through a midlife crisis .' to 'Compré un auto nuevo porque estaba pasando por una crisis de la mediana edad .'\n",
            "\u001b[1m\u001b[94mbought\u001b[0m===\u001b[1m\u001b[91mCompré\u001b[0m\n",
            "\u001b[1m\u001b[94ma\u001b[0m===\u001b[1m\u001b[91mun\u001b[0m\n",
            "\u001b[1m\u001b[94mnew\u001b[0m===\u001b[1m\u001b[91mnuevo\u001b[0m\n",
            "\u001b[1m\u001b[94mcar\u001b[0m===\u001b[1m\u001b[91mauto\u001b[0m\n",
            "\u001b[1m\u001b[94mbecause\u001b[0m===\u001b[1m\u001b[91mporque\u001b[0m\n",
            "\u001b[1m\u001b[94mwas\u001b[0m===\u001b[1m\u001b[91mestaba\u001b[0m\n",
            "\u001b[1m\u001b[94mgoing\u001b[0m===\u001b[1m\u001b[91mpasando\u001b[0m\n",
            "\u001b[1m\u001b[94mthrough\u001b[0m===\u001b[1m\u001b[91mpor\u001b[0m\n",
            "\u001b[1m\u001b[94ma\u001b[0m===\u001b[1m\u001b[91muna\u001b[0m\n",
            "\u001b[1m\u001b[94mcrisis\u001b[0m===\u001b[1m\u001b[91mcrisis\u001b[0m\n",
            "\u001b[1m\u001b[94m.\u001b[0m===\u001b[1m\u001b[91m.\u001b[0m\n",
            " (layer 7 > 1e-07) 12 links for 'I bought a new car because I was going through a midlife crisis .' to 'Compré un auto nuevo porque estaba pasando por una crisis de la mediana edad .'\n",
            "\u001b[1m\u001b[94mbought\u001b[0m===\u001b[1m\u001b[91mCompré\u001b[0m\n",
            "\u001b[1m\u001b[94ma\u001b[0m===\u001b[1m\u001b[91mun\u001b[0m\n",
            "\u001b[1m\u001b[94mnew\u001b[0m===\u001b[1m\u001b[91mnuevo\u001b[0m\n",
            "\u001b[1m\u001b[94mcar\u001b[0m===\u001b[1m\u001b[91mauto\u001b[0m\n",
            "\u001b[1m\u001b[94mbecause\u001b[0m===\u001b[1m\u001b[91mporque\u001b[0m\n",
            "\u001b[1m\u001b[94mwas\u001b[0m===\u001b[1m\u001b[91mestaba\u001b[0m\n",
            "\u001b[1m\u001b[94mgoing\u001b[0m===\u001b[1m\u001b[91mpasando\u001b[0m\n",
            "\u001b[1m\u001b[94mthrough\u001b[0m===\u001b[1m\u001b[91mpor\u001b[0m\n",
            "\u001b[1m\u001b[94ma\u001b[0m===\u001b[1m\u001b[91muna\u001b[0m\n",
            "\u001b[1m\u001b[94mmidlife\u001b[0m===\u001b[1m\u001b[91mmediana\u001b[0m\n",
            "\u001b[1m\u001b[94mcrisis\u001b[0m===\u001b[1m\u001b[91mcrisis\u001b[0m\n",
            "\u001b[1m\u001b[94m.\u001b[0m===\u001b[1m\u001b[91m.\u001b[0m\n",
            " (layer 7 > 1e-13) 13 links for 'I bought a new car because I was going through a midlife crisis .' to 'Compré un auto nuevo porque estaba pasando por una crisis de la mediana edad .'\n",
            "\u001b[1m\u001b[94mbought\u001b[0m===\u001b[1m\u001b[91mCompré\u001b[0m\n",
            "\u001b[1m\u001b[94ma\u001b[0m===\u001b[1m\u001b[91mun\u001b[0m\n",
            "\u001b[1m\u001b[94mnew\u001b[0m===\u001b[1m\u001b[91mnuevo\u001b[0m\n",
            "\u001b[1m\u001b[94mcar\u001b[0m===\u001b[1m\u001b[91mauto\u001b[0m\n",
            "\u001b[1m\u001b[94mbecause\u001b[0m===\u001b[1m\u001b[91mporque\u001b[0m\n",
            "\u001b[1m\u001b[94mwas\u001b[0m===\u001b[1m\u001b[91mestaba\u001b[0m\n",
            "\u001b[1m\u001b[94mgoing\u001b[0m===\u001b[1m\u001b[91mpasando\u001b[0m\n",
            "\u001b[1m\u001b[94mthrough\u001b[0m===\u001b[1m\u001b[91mpor\u001b[0m\n",
            "\u001b[1m\u001b[94ma\u001b[0m===\u001b[1m\u001b[91muna\u001b[0m\n",
            "\u001b[1m\u001b[94mmidlife\u001b[0m===\u001b[1m\u001b[91mla\u001b[0m\n",
            "\u001b[1m\u001b[94mmidlife\u001b[0m===\u001b[1m\u001b[91mmediana\u001b[0m\n",
            "\u001b[1m\u001b[94mcrisis\u001b[0m===\u001b[1m\u001b[91mcrisis\u001b[0m\n",
            "\u001b[1m\u001b[94m.\u001b[0m===\u001b[1m\u001b[91m.\u001b[0m\n",
            " (layer 8 > 0.001) 13 links for 'I bought a new car because I was going through a midlife crisis .' to 'Compré un auto nuevo porque estaba pasando por una crisis de la mediana edad .'\n",
            "\u001b[1m\u001b[94mI\u001b[0m===\u001b[1m\u001b[91mCompré\u001b[0m\n",
            "\u001b[1m\u001b[94mbought\u001b[0m===\u001b[1m\u001b[91mCompré\u001b[0m\n",
            "\u001b[1m\u001b[94ma\u001b[0m===\u001b[1m\u001b[91mun\u001b[0m\n",
            "\u001b[1m\u001b[94mnew\u001b[0m===\u001b[1m\u001b[91mnuevo\u001b[0m\n",
            "\u001b[1m\u001b[94mcar\u001b[0m===\u001b[1m\u001b[91mauto\u001b[0m\n",
            "\u001b[1m\u001b[94mbecause\u001b[0m===\u001b[1m\u001b[91mporque\u001b[0m\n",
            "\u001b[1m\u001b[94mwas\u001b[0m===\u001b[1m\u001b[91mestaba\u001b[0m\n",
            "\u001b[1m\u001b[94mgoing\u001b[0m===\u001b[1m\u001b[91mpasando\u001b[0m\n",
            "\u001b[1m\u001b[94mthrough\u001b[0m===\u001b[1m\u001b[91mpor\u001b[0m\n",
            "\u001b[1m\u001b[94ma\u001b[0m===\u001b[1m\u001b[91muna\u001b[0m\n",
            "\u001b[1m\u001b[94mmidlife\u001b[0m===\u001b[1m\u001b[91mmediana\u001b[0m\n",
            "\u001b[1m\u001b[94mcrisis\u001b[0m===\u001b[1m\u001b[91mcrisis\u001b[0m\n",
            "\u001b[1m\u001b[94m.\u001b[0m===\u001b[1m\u001b[91m.\u001b[0m\n",
            " (layer 8 > 1e-09) 14 links for 'I bought a new car because I was going through a midlife crisis .' to 'Compré un auto nuevo porque estaba pasando por una crisis de la mediana edad .'\n",
            "\u001b[1m\u001b[94mI\u001b[0m===\u001b[1m\u001b[91mCompré\u001b[0m\n",
            "\u001b[1m\u001b[94mbought\u001b[0m===\u001b[1m\u001b[91mCompré\u001b[0m\n",
            "\u001b[1m\u001b[94ma\u001b[0m===\u001b[1m\u001b[91mun\u001b[0m\n",
            "\u001b[1m\u001b[94mnew\u001b[0m===\u001b[1m\u001b[91mnuevo\u001b[0m\n",
            "\u001b[1m\u001b[94mcar\u001b[0m===\u001b[1m\u001b[91mauto\u001b[0m\n",
            "\u001b[1m\u001b[94mbecause\u001b[0m===\u001b[1m\u001b[91mporque\u001b[0m\n",
            "\u001b[1m\u001b[94mwas\u001b[0m===\u001b[1m\u001b[91mestaba\u001b[0m\n",
            "\u001b[1m\u001b[94mgoing\u001b[0m===\u001b[1m\u001b[91mpasando\u001b[0m\n",
            "\u001b[1m\u001b[94mthrough\u001b[0m===\u001b[1m\u001b[91mpor\u001b[0m\n",
            "\u001b[1m\u001b[94ma\u001b[0m===\u001b[1m\u001b[91muna\u001b[0m\n",
            "\u001b[1m\u001b[94mmidlife\u001b[0m===\u001b[1m\u001b[91mde\u001b[0m\n",
            "\u001b[1m\u001b[94mmidlife\u001b[0m===\u001b[1m\u001b[91mmediana\u001b[0m\n",
            "\u001b[1m\u001b[94mcrisis\u001b[0m===\u001b[1m\u001b[91mcrisis\u001b[0m\n",
            "\u001b[1m\u001b[94m.\u001b[0m===\u001b[1m\u001b[91m.\u001b[0m\n",
            " (layer 9 > 0.001) 12 links for 'I bought a new car because I was going through a midlife crisis .' to 'Compré un auto nuevo porque estaba pasando por una crisis de la mediana edad .'\n",
            "\u001b[1m\u001b[94mI\u001b[0m===\u001b[1m\u001b[91mCompré\u001b[0m\n",
            "\u001b[1m\u001b[94mbought\u001b[0m===\u001b[1m\u001b[91mCompré\u001b[0m\n",
            "\u001b[1m\u001b[94ma\u001b[0m===\u001b[1m\u001b[91mun\u001b[0m\n",
            "\u001b[1m\u001b[94mnew\u001b[0m===\u001b[1m\u001b[91mnuevo\u001b[0m\n",
            "\u001b[1m\u001b[94mcar\u001b[0m===\u001b[1m\u001b[91mauto\u001b[0m\n",
            "\u001b[1m\u001b[94mbecause\u001b[0m===\u001b[1m\u001b[91mporque\u001b[0m\n",
            "\u001b[1m\u001b[94mwas\u001b[0m===\u001b[1m\u001b[91mestaba\u001b[0m\n",
            "\u001b[1m\u001b[94mgoing\u001b[0m===\u001b[1m\u001b[91mpasando\u001b[0m\n",
            "\u001b[1m\u001b[94mthrough\u001b[0m===\u001b[1m\u001b[91mpor\u001b[0m\n",
            "\u001b[1m\u001b[94ma\u001b[0m===\u001b[1m\u001b[91muna\u001b[0m\n",
            "\u001b[1m\u001b[94mcrisis\u001b[0m===\u001b[1m\u001b[91mcrisis\u001b[0m\n",
            "\u001b[1m\u001b[94m.\u001b[0m===\u001b[1m\u001b[91m.\u001b[0m\n",
            " (layer 9 > 1e-05) 13 links for 'I bought a new car because I was going through a midlife crisis .' to 'Compré un auto nuevo porque estaba pasando por una crisis de la mediana edad .'\n",
            "\u001b[1m\u001b[94mI\u001b[0m===\u001b[1m\u001b[91mCompré\u001b[0m\n",
            "\u001b[1m\u001b[94mbought\u001b[0m===\u001b[1m\u001b[91mCompré\u001b[0m\n",
            "\u001b[1m\u001b[94ma\u001b[0m===\u001b[1m\u001b[91mun\u001b[0m\n",
            "\u001b[1m\u001b[94mnew\u001b[0m===\u001b[1m\u001b[91mnuevo\u001b[0m\n",
            "\u001b[1m\u001b[94mcar\u001b[0m===\u001b[1m\u001b[91mauto\u001b[0m\n",
            "\u001b[1m\u001b[94mbecause\u001b[0m===\u001b[1m\u001b[91mporque\u001b[0m\n",
            "\u001b[1m\u001b[94mwas\u001b[0m===\u001b[1m\u001b[91mestaba\u001b[0m\n",
            "\u001b[1m\u001b[94mgoing\u001b[0m===\u001b[1m\u001b[91mpasando\u001b[0m\n",
            "\u001b[1m\u001b[94mthrough\u001b[0m===\u001b[1m\u001b[91mpor\u001b[0m\n",
            "\u001b[1m\u001b[94ma\u001b[0m===\u001b[1m\u001b[91muna\u001b[0m\n",
            "\u001b[1m\u001b[94mmidlife\u001b[0m===\u001b[1m\u001b[91mmediana\u001b[0m\n",
            "\u001b[1m\u001b[94mcrisis\u001b[0m===\u001b[1m\u001b[91mcrisis\u001b[0m\n",
            "\u001b[1m\u001b[94m.\u001b[0m===\u001b[1m\u001b[91m.\u001b[0m\n",
            " (layer 9 > 1e-09) 14 links for 'I bought a new car because I was going through a midlife crisis .' to 'Compré un auto nuevo porque estaba pasando por una crisis de la mediana edad .'\n",
            "\u001b[1m\u001b[94mI\u001b[0m===\u001b[1m\u001b[91mCompré\u001b[0m\n",
            "\u001b[1m\u001b[94mbought\u001b[0m===\u001b[1m\u001b[91mCompré\u001b[0m\n",
            "\u001b[1m\u001b[94ma\u001b[0m===\u001b[1m\u001b[91mun\u001b[0m\n",
            "\u001b[1m\u001b[94mnew\u001b[0m===\u001b[1m\u001b[91mnuevo\u001b[0m\n",
            "\u001b[1m\u001b[94mcar\u001b[0m===\u001b[1m\u001b[91mauto\u001b[0m\n",
            "\u001b[1m\u001b[94mbecause\u001b[0m===\u001b[1m\u001b[91mporque\u001b[0m\n",
            "\u001b[1m\u001b[94mwas\u001b[0m===\u001b[1m\u001b[91mestaba\u001b[0m\n",
            "\u001b[1m\u001b[94mgoing\u001b[0m===\u001b[1m\u001b[91mpasando\u001b[0m\n",
            "\u001b[1m\u001b[94mthrough\u001b[0m===\u001b[1m\u001b[91mpor\u001b[0m\n",
            "\u001b[1m\u001b[94ma\u001b[0m===\u001b[1m\u001b[91muna\u001b[0m\n",
            "\u001b[1m\u001b[94mmidlife\u001b[0m===\u001b[1m\u001b[91mmediana\u001b[0m\n",
            "\u001b[1m\u001b[94mmidlife\u001b[0m===\u001b[1m\u001b[91medad\u001b[0m\n",
            "\u001b[1m\u001b[94mcrisis\u001b[0m===\u001b[1m\u001b[91mcrisis\u001b[0m\n",
            "\u001b[1m\u001b[94m.\u001b[0m===\u001b[1m\u001b[91m.\u001b[0m\n",
            " (layer 9 > 1e-11) 15 links for 'I bought a new car because I was going through a midlife crisis .' to 'Compré un auto nuevo porque estaba pasando por una crisis de la mediana edad .'\n",
            "\u001b[1m\u001b[94mI\u001b[0m===\u001b[1m\u001b[91mCompré\u001b[0m\n",
            "\u001b[1m\u001b[94mbought\u001b[0m===\u001b[1m\u001b[91mCompré\u001b[0m\n",
            "\u001b[1m\u001b[94ma\u001b[0m===\u001b[1m\u001b[91mun\u001b[0m\n",
            "\u001b[1m\u001b[94mnew\u001b[0m===\u001b[1m\u001b[91mnuevo\u001b[0m\n",
            "\u001b[1m\u001b[94mcar\u001b[0m===\u001b[1m\u001b[91mauto\u001b[0m\n",
            "\u001b[1m\u001b[94mbecause\u001b[0m===\u001b[1m\u001b[91mporque\u001b[0m\n",
            "\u001b[1m\u001b[94mwas\u001b[0m===\u001b[1m\u001b[91mestaba\u001b[0m\n",
            "\u001b[1m\u001b[94mgoing\u001b[0m===\u001b[1m\u001b[91mpasando\u001b[0m\n",
            "\u001b[1m\u001b[94mthrough\u001b[0m===\u001b[1m\u001b[91mpor\u001b[0m\n",
            "\u001b[1m\u001b[94ma\u001b[0m===\u001b[1m\u001b[91muna\u001b[0m\n",
            "\u001b[1m\u001b[94mmidlife\u001b[0m===\u001b[1m\u001b[91mde\u001b[0m\n",
            "\u001b[1m\u001b[94mmidlife\u001b[0m===\u001b[1m\u001b[91mmediana\u001b[0m\n",
            "\u001b[1m\u001b[94mmidlife\u001b[0m===\u001b[1m\u001b[91medad\u001b[0m\n",
            "\u001b[1m\u001b[94mcrisis\u001b[0m===\u001b[1m\u001b[91mcrisis\u001b[0m\n",
            "\u001b[1m\u001b[94m.\u001b[0m===\u001b[1m\u001b[91m.\u001b[0m\n",
            " (layer 10 > 0.001) 12 links for 'I bought a new car because I was going through a midlife crisis .' to 'Compré un auto nuevo porque estaba pasando por una crisis de la mediana edad .'\n",
            "\u001b[1m\u001b[94mI\u001b[0m===\u001b[1m\u001b[91mCompré\u001b[0m\n",
            "\u001b[1m\u001b[94mbought\u001b[0m===\u001b[1m\u001b[91mCompré\u001b[0m\n",
            "\u001b[1m\u001b[94ma\u001b[0m===\u001b[1m\u001b[91mun\u001b[0m\n",
            "\u001b[1m\u001b[94mnew\u001b[0m===\u001b[1m\u001b[91mnuevo\u001b[0m\n",
            "\u001b[1m\u001b[94mcar\u001b[0m===\u001b[1m\u001b[91mauto\u001b[0m\n",
            "\u001b[1m\u001b[94mbecause\u001b[0m===\u001b[1m\u001b[91mporque\u001b[0m\n",
            "\u001b[1m\u001b[94mwas\u001b[0m===\u001b[1m\u001b[91mestaba\u001b[0m\n",
            "\u001b[1m\u001b[94mgoing\u001b[0m===\u001b[1m\u001b[91mpasando\u001b[0m\n",
            "\u001b[1m\u001b[94mthrough\u001b[0m===\u001b[1m\u001b[91mpor\u001b[0m\n",
            "\u001b[1m\u001b[94ma\u001b[0m===\u001b[1m\u001b[91muna\u001b[0m\n",
            "\u001b[1m\u001b[94mcrisis\u001b[0m===\u001b[1m\u001b[91mcrisis\u001b[0m\n",
            "\u001b[1m\u001b[94m.\u001b[0m===\u001b[1m\u001b[91m.\u001b[0m\n",
            " (layer 10 > 1e-09) 14 links for 'I bought a new car because I was going through a midlife crisis .' to 'Compré un auto nuevo porque estaba pasando por una crisis de la mediana edad .'\n",
            "\u001b[1m\u001b[94mI\u001b[0m===\u001b[1m\u001b[91mCompré\u001b[0m\n",
            "\u001b[1m\u001b[94mbought\u001b[0m===\u001b[1m\u001b[91mCompré\u001b[0m\n",
            "\u001b[1m\u001b[94ma\u001b[0m===\u001b[1m\u001b[91mun\u001b[0m\n",
            "\u001b[1m\u001b[94mnew\u001b[0m===\u001b[1m\u001b[91mun\u001b[0m\n",
            "\u001b[1m\u001b[94mnew\u001b[0m===\u001b[1m\u001b[91mnuevo\u001b[0m\n",
            "\u001b[1m\u001b[94mcar\u001b[0m===\u001b[1m\u001b[91mauto\u001b[0m\n",
            "\u001b[1m\u001b[94mbecause\u001b[0m===\u001b[1m\u001b[91mporque\u001b[0m\n",
            "\u001b[1m\u001b[94mwas\u001b[0m===\u001b[1m\u001b[91mestaba\u001b[0m\n",
            "\u001b[1m\u001b[94mgoing\u001b[0m===\u001b[1m\u001b[91mpasando\u001b[0m\n",
            "\u001b[1m\u001b[94mthrough\u001b[0m===\u001b[1m\u001b[91mpor\u001b[0m\n",
            "\u001b[1m\u001b[94ma\u001b[0m===\u001b[1m\u001b[91muna\u001b[0m\n",
            "\u001b[1m\u001b[94mmidlife\u001b[0m===\u001b[1m\u001b[91mmediana\u001b[0m\n",
            "\u001b[1m\u001b[94mcrisis\u001b[0m===\u001b[1m\u001b[91mcrisis\u001b[0m\n",
            "\u001b[1m\u001b[94m.\u001b[0m===\u001b[1m\u001b[91m.\u001b[0m\n",
            " (layer 11 > 0.001) 6 links for 'I bought a new car because I was going through a midlife crisis .' to 'Compré un auto nuevo porque estaba pasando por una crisis de la mediana edad .'\n",
            "\u001b[1m\u001b[94mnew\u001b[0m===\u001b[1m\u001b[91mnuevo\u001b[0m\n",
            "\u001b[1m\u001b[94mcar\u001b[0m===\u001b[1m\u001b[91mauto\u001b[0m\n",
            "\u001b[1m\u001b[94mbecause\u001b[0m===\u001b[1m\u001b[91mporque\u001b[0m\n",
            "\u001b[1m\u001b[94mgoing\u001b[0m===\u001b[1m\u001b[91mpasando\u001b[0m\n",
            "\u001b[1m\u001b[94ma\u001b[0m===\u001b[1m\u001b[91muna\u001b[0m\n",
            "\u001b[1m\u001b[94m.\u001b[0m===\u001b[1m\u001b[91m.\u001b[0m\n",
            " (layer 11 > 1e-09) 8 links for 'I bought a new car because I was going through a midlife crisis .' to 'Compré un auto nuevo porque estaba pasando por una crisis de la mediana edad .'\n",
            "\u001b[1m\u001b[94mnew\u001b[0m===\u001b[1m\u001b[91mnuevo\u001b[0m\n",
            "\u001b[1m\u001b[94mcar\u001b[0m===\u001b[1m\u001b[91mauto\u001b[0m\n",
            "\u001b[1m\u001b[94mbecause\u001b[0m===\u001b[1m\u001b[91mporque\u001b[0m\n",
            "\u001b[1m\u001b[94mwas\u001b[0m===\u001b[1m\u001b[91mestaba\u001b[0m\n",
            "\u001b[1m\u001b[94mgoing\u001b[0m===\u001b[1m\u001b[91mpasando\u001b[0m\n",
            "\u001b[1m\u001b[94ma\u001b[0m===\u001b[1m\u001b[91muna\u001b[0m\n",
            "\u001b[1m\u001b[94mcrisis\u001b[0m===\u001b[1m\u001b[91mcrisis\u001b[0m\n",
            "\u001b[1m\u001b[94m.\u001b[0m===\u001b[1m\u001b[91m.\u001b[0m\n",
            " (layer 11 > 1e-11) 9 links for 'I bought a new car because I was going through a midlife crisis .' to 'Compré un auto nuevo porque estaba pasando por una crisis de la mediana edad .'\n",
            "\u001b[1m\u001b[94mnew\u001b[0m===\u001b[1m\u001b[91mnuevo\u001b[0m\n",
            "\u001b[1m\u001b[94mcar\u001b[0m===\u001b[1m\u001b[91mauto\u001b[0m\n",
            "\u001b[1m\u001b[94mbecause\u001b[0m===\u001b[1m\u001b[91mporque\u001b[0m\n",
            "\u001b[1m\u001b[94mwas\u001b[0m===\u001b[1m\u001b[91mestaba\u001b[0m\n",
            "\u001b[1m\u001b[94mgoing\u001b[0m===\u001b[1m\u001b[91mpasando\u001b[0m\n",
            "\u001b[1m\u001b[94mthrough\u001b[0m===\u001b[1m\u001b[91mpor\u001b[0m\n",
            "\u001b[1m\u001b[94ma\u001b[0m===\u001b[1m\u001b[91muna\u001b[0m\n",
            "\u001b[1m\u001b[94mcrisis\u001b[0m===\u001b[1m\u001b[91mcrisis\u001b[0m\n",
            "\u001b[1m\u001b[94m.\u001b[0m===\u001b[1m\u001b[91m.\u001b[0m\n",
            " (layer 11 > 1e-13) 10 links for 'I bought a new car because I was going through a midlife crisis .' to 'Compré un auto nuevo porque estaba pasando por una crisis de la mediana edad .'\n",
            "\u001b[1m\u001b[94mnew\u001b[0m===\u001b[1m\u001b[91mun\u001b[0m\n",
            "\u001b[1m\u001b[94mnew\u001b[0m===\u001b[1m\u001b[91mnuevo\u001b[0m\n",
            "\u001b[1m\u001b[94mcar\u001b[0m===\u001b[1m\u001b[91mauto\u001b[0m\n",
            "\u001b[1m\u001b[94mbecause\u001b[0m===\u001b[1m\u001b[91mporque\u001b[0m\n",
            "\u001b[1m\u001b[94mwas\u001b[0m===\u001b[1m\u001b[91mestaba\u001b[0m\n",
            "\u001b[1m\u001b[94mgoing\u001b[0m===\u001b[1m\u001b[91mpasando\u001b[0m\n",
            "\u001b[1m\u001b[94mthrough\u001b[0m===\u001b[1m\u001b[91mpor\u001b[0m\n",
            "\u001b[1m\u001b[94ma\u001b[0m===\u001b[1m\u001b[91muna\u001b[0m\n",
            "\u001b[1m\u001b[94mcrisis\u001b[0m===\u001b[1m\u001b[91mcrisis\u001b[0m\n",
            "\u001b[1m\u001b[94m.\u001b[0m===\u001b[1m\u001b[91m.\u001b[0m\n"
          ]
        }
      ]
    }
  ]
}